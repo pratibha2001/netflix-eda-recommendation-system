{
  "metadata": {
    "kernelspec": {
      "language": "python",
      "display_name": "Python 3",
      "name": "python3"
    },
    "language_info": {
      "pygments_lexer": "ipython3",
      "nbconvert_exporter": "python",
      "version": "3.6.4",
      "file_extension": ".py",
      "codemirror_mode": {
        "name": "ipython",
        "version": 3
      },
      "name": "python",
      "mimetype": "text/x-python"
    },
    "colab": {
      "provenance": []
    }
  },
  "nbformat_minor": 0,
  "nbformat": 4,
  "cells": [
    {
      "cell_type": "markdown",
      "source": [
        "\n",
        "# **NETFLIX DATASET ANALYSIS ![netflix image.webp](data:image/webp;base64,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)**\n",
        "```\n",
        "\n",
        "```\n",
        "\n"
      ],
      "metadata": {
        "id": "siTTXlSTJRm0"
      }
    },
    {
      "cell_type": "markdown",
      "source": [
        "## Netflix, Inc. is an American subscription streaming service and production company. Launched on August 29, 1997, it offers a film and television series library through distribution deals as well as its own productions, known as Netflix Originals.\n",
        "\n",
        "[Netflix](https://en.wikipedia.org/wiki/Netflix) "
      ],
      "metadata": {
        "papermill": {
          "duration": 0.011117,
          "end_time": "2022-06-06T16:17:56.732022",
          "exception": false,
          "start_time": "2022-06-06T16:17:56.720905",
          "status": "completed"
        },
        "tags": [],
        "id": "W0bxzSqMtnyJ"
      }
    },
    {
      "cell_type": "markdown",
      "source": [
        "**NETFLIX DATASET EDA**\n"
      ],
      "metadata": {
        "id": "djVUfBYRKUyQ"
      }
    },
    {
      "cell_type": "code",
      "source": [
        "\n",
        "import numpy as np\n",
        "import pandas as pd\n",
        "import matplotlib.pyplot as plt\n",
        "import seaborn as sns\n",
        "import matplotlib.pyplot as plt\n",
        "import os"
      ],
      "metadata": {
        "papermill": {
          "duration": 1.189348,
          "end_time": "2022-06-06T16:17:57.932815",
          "exception": false,
          "start_time": "2022-06-06T16:17:56.743467",
          "status": "completed"
        },
        "tags": [],
        "execution": {
          "iopub.status.busy": "2022-06-14T16:51:59.912991Z",
          "iopub.execute_input": "2022-06-14T16:51:59.913484Z",
          "iopub.status.idle": "2022-06-14T16:52:00.420026Z",
          "shell.execute_reply.started": "2022-06-14T16:51:59.913388Z",
          "shell.execute_reply": "2022-06-14T16:52:00.418918Z"
        },
        "trusted": true,
        "id": "9m7y2jtHtnyK"
      },
      "execution_count": null,
      "outputs": []
    },
    {
      "cell_type": "code",
      "source": [
        "netflix_data=pd.read_csv(\"/content/netflix_titles.csv\")\n",
        "netflix_data.head()"
      ],
      "metadata": {
        "papermill": {
          "duration": 0.157628,
          "end_time": "2022-06-06T16:17:58.102347",
          "exception": false,
          "start_time": "2022-06-06T16:17:57.944719",
          "status": "completed"
        },
        "tags": [],
        "execution": {
          "iopub.status.busy": "2022-06-14T16:52:00.421602Z",
          "iopub.execute_input": "2022-06-14T16:52:00.421958Z",
          "iopub.status.idle": "2022-06-14T16:52:00.531433Z",
          "shell.execute_reply.started": "2022-06-14T16:52:00.42189Z",
          "shell.execute_reply": "2022-06-14T16:52:00.530556Z"
        },
        "trusted": true,
        "colab": {
          "base_uri": "https://localhost:8080/",
          "height": 475
        },
        "id": "1KatO6NbtnyL",
        "outputId": "51327976-4be4-45f5-8c56-890e0140b7d4"
      },
      "execution_count": null,
      "outputs": [
        {
          "output_type": "execute_result",
          "data": {
            "text/plain": [
              "  show_id     type                  title         director  \\\n",
              "0      s1    Movie   Dick Johnson Is Dead  Kirsten Johnson   \n",
              "1      s2  TV Show          Blood & Water              NaN   \n",
              "2      s3  TV Show              Ganglands  Julien Leclercq   \n",
              "3      s4  TV Show  Jailbirds New Orleans              NaN   \n",
              "4      s5  TV Show           Kota Factory              NaN   \n",
              "\n",
              "                                                cast        country  \\\n",
              "0                                                NaN  United States   \n",
              "1  Ama Qamata, Khosi Ngema, Gail Mabalane, Thaban...   South Africa   \n",
              "2  Sami Bouajila, Tracy Gotoas, Samuel Jouy, Nabi...            NaN   \n",
              "3                                                NaN            NaN   \n",
              "4  Mayur More, Jitendra Kumar, Ranjan Raj, Alam K...          India   \n",
              "\n",
              "           date_added  release_year rating   duration  \\\n",
              "0  September 25, 2021          2020  PG-13     90 min   \n",
              "1  September 24, 2021          2021  TV-MA  2 Seasons   \n",
              "2  September 24, 2021          2021  TV-MA   1 Season   \n",
              "3  September 24, 2021          2021  TV-MA   1 Season   \n",
              "4  September 24, 2021          2021  TV-MA  2 Seasons   \n",
              "\n",
              "                                           listed_in  \\\n",
              "0                                      Documentaries   \n",
              "1    International TV Shows, TV Dramas, TV Mysteries   \n",
              "2  Crime TV Shows, International TV Shows, TV Act...   \n",
              "3                             Docuseries, Reality TV   \n",
              "4  International TV Shows, Romantic TV Shows, TV ...   \n",
              "\n",
              "                                         description  \n",
              "0  As her father nears the end of his life, filmm...  \n",
              "1  After crossing paths at a party, a Cape Town t...  \n",
              "2  To protect his family from a powerful drug lor...  \n",
              "3  Feuds, flirtations and toilet talk go down amo...  \n",
              "4  In a city of coaching centers known to train I...  "
            ],
            "text/html": [
              "\n",
              "  <div id=\"df-0a5f8e1b-9594-4413-80e9-1af84eacd616\">\n",
              "    <div class=\"colab-df-container\">\n",
              "      <div>\n",
              "<style scoped>\n",
              "    .dataframe tbody tr th:only-of-type {\n",
              "        vertical-align: middle;\n",
              "    }\n",
              "\n",
              "    .dataframe tbody tr th {\n",
              "        vertical-align: top;\n",
              "    }\n",
              "\n",
              "    .dataframe thead th {\n",
              "        text-align: right;\n",
              "    }\n",
              "</style>\n",
              "<table border=\"1\" class=\"dataframe\">\n",
              "  <thead>\n",
              "    <tr style=\"text-align: right;\">\n",
              "      <th></th>\n",
              "      <th>show_id</th>\n",
              "      <th>type</th>\n",
              "      <th>title</th>\n",
              "      <th>director</th>\n",
              "      <th>cast</th>\n",
              "      <th>country</th>\n",
              "      <th>date_added</th>\n",
              "      <th>release_year</th>\n",
              "      <th>rating</th>\n",
              "      <th>duration</th>\n",
              "      <th>listed_in</th>\n",
              "      <th>description</th>\n",
              "    </tr>\n",
              "  </thead>\n",
              "  <tbody>\n",
              "    <tr>\n",
              "      <th>0</th>\n",
              "      <td>s1</td>\n",
              "      <td>Movie</td>\n",
              "      <td>Dick Johnson Is Dead</td>\n",
              "      <td>Kirsten Johnson</td>\n",
              "      <td>NaN</td>\n",
              "      <td>United States</td>\n",
              "      <td>September 25, 2021</td>\n",
              "      <td>2020</td>\n",
              "      <td>PG-13</td>\n",
              "      <td>90 min</td>\n",
              "      <td>Documentaries</td>\n",
              "      <td>As her father nears the end of his life, filmm...</td>\n",
              "    </tr>\n",
              "    <tr>\n",
              "      <th>1</th>\n",
              "      <td>s2</td>\n",
              "      <td>TV Show</td>\n",
              "      <td>Blood &amp; Water</td>\n",
              "      <td>NaN</td>\n",
              "      <td>Ama Qamata, Khosi Ngema, Gail Mabalane, Thaban...</td>\n",
              "      <td>South Africa</td>\n",
              "      <td>September 24, 2021</td>\n",
              "      <td>2021</td>\n",
              "      <td>TV-MA</td>\n",
              "      <td>2 Seasons</td>\n",
              "      <td>International TV Shows, TV Dramas, TV Mysteries</td>\n",
              "      <td>After crossing paths at a party, a Cape Town t...</td>\n",
              "    </tr>\n",
              "    <tr>\n",
              "      <th>2</th>\n",
              "      <td>s3</td>\n",
              "      <td>TV Show</td>\n",
              "      <td>Ganglands</td>\n",
              "      <td>Julien Leclercq</td>\n",
              "      <td>Sami Bouajila, Tracy Gotoas, Samuel Jouy, Nabi...</td>\n",
              "      <td>NaN</td>\n",
              "      <td>September 24, 2021</td>\n",
              "      <td>2021</td>\n",
              "      <td>TV-MA</td>\n",
              "      <td>1 Season</td>\n",
              "      <td>Crime TV Shows, International TV Shows, TV Act...</td>\n",
              "      <td>To protect his family from a powerful drug lor...</td>\n",
              "    </tr>\n",
              "    <tr>\n",
              "      <th>3</th>\n",
              "      <td>s4</td>\n",
              "      <td>TV Show</td>\n",
              "      <td>Jailbirds New Orleans</td>\n",
              "      <td>NaN</td>\n",
              "      <td>NaN</td>\n",
              "      <td>NaN</td>\n",
              "      <td>September 24, 2021</td>\n",
              "      <td>2021</td>\n",
              "      <td>TV-MA</td>\n",
              "      <td>1 Season</td>\n",
              "      <td>Docuseries, Reality TV</td>\n",
              "      <td>Feuds, flirtations and toilet talk go down amo...</td>\n",
              "    </tr>\n",
              "    <tr>\n",
              "      <th>4</th>\n",
              "      <td>s5</td>\n",
              "      <td>TV Show</td>\n",
              "      <td>Kota Factory</td>\n",
              "      <td>NaN</td>\n",
              "      <td>Mayur More, Jitendra Kumar, Ranjan Raj, Alam K...</td>\n",
              "      <td>India</td>\n",
              "      <td>September 24, 2021</td>\n",
              "      <td>2021</td>\n",
              "      <td>TV-MA</td>\n",
              "      <td>2 Seasons</td>\n",
              "      <td>International TV Shows, Romantic TV Shows, TV ...</td>\n",
              "      <td>In a city of coaching centers known to train I...</td>\n",
              "    </tr>\n",
              "  </tbody>\n",
              "</table>\n",
              "</div>\n",
              "      <button class=\"colab-df-convert\" onclick=\"convertToInteractive('df-0a5f8e1b-9594-4413-80e9-1af84eacd616')\"\n",
              "              title=\"Convert this dataframe to an interactive table.\"\n",
              "              style=\"display:none;\">\n",
              "        \n",
              "  <svg xmlns=\"http://www.w3.org/2000/svg\" height=\"24px\"viewBox=\"0 0 24 24\"\n",
              "       width=\"24px\">\n",
              "    <path d=\"M0 0h24v24H0V0z\" fill=\"none\"/>\n",
              "    <path d=\"M18.56 5.44l.94 2.06.94-2.06 2.06-.94-2.06-.94-.94-2.06-.94 2.06-2.06.94zm-11 1L8.5 8.5l.94-2.06 2.06-.94-2.06-.94L8.5 2.5l-.94 2.06-2.06.94zm10 10l.94 2.06.94-2.06 2.06-.94-2.06-.94-.94-2.06-.94 2.06-2.06.94z\"/><path d=\"M17.41 7.96l-1.37-1.37c-.4-.4-.92-.59-1.43-.59-.52 0-1.04.2-1.43.59L10.3 9.45l-7.72 7.72c-.78.78-.78 2.05 0 2.83L4 21.41c.39.39.9.59 1.41.59.51 0 1.02-.2 1.41-.59l7.78-7.78 2.81-2.81c.8-.78.8-2.07 0-2.86zM5.41 20L4 18.59l7.72-7.72 1.47 1.35L5.41 20z\"/>\n",
              "  </svg>\n",
              "      </button>\n",
              "      \n",
              "  <style>\n",
              "    .colab-df-container {\n",
              "      display:flex;\n",
              "      flex-wrap:wrap;\n",
              "      gap: 12px;\n",
              "    }\n",
              "\n",
              "    .colab-df-convert {\n",
              "      background-color: #E8F0FE;\n",
              "      border: none;\n",
              "      border-radius: 50%;\n",
              "      cursor: pointer;\n",
              "      display: none;\n",
              "      fill: #1967D2;\n",
              "      height: 32px;\n",
              "      padding: 0 0 0 0;\n",
              "      width: 32px;\n",
              "    }\n",
              "\n",
              "    .colab-df-convert:hover {\n",
              "      background-color: #E2EBFA;\n",
              "      box-shadow: 0px 1px 2px rgba(60, 64, 67, 0.3), 0px 1px 3px 1px rgba(60, 64, 67, 0.15);\n",
              "      fill: #174EA6;\n",
              "    }\n",
              "\n",
              "    [theme=dark] .colab-df-convert {\n",
              "      background-color: #3B4455;\n",
              "      fill: #D2E3FC;\n",
              "    }\n",
              "\n",
              "    [theme=dark] .colab-df-convert:hover {\n",
              "      background-color: #434B5C;\n",
              "      box-shadow: 0px 1px 3px 1px rgba(0, 0, 0, 0.15);\n",
              "      filter: drop-shadow(0px 1px 2px rgba(0, 0, 0, 0.3));\n",
              "      fill: #FFFFFF;\n",
              "    }\n",
              "  </style>\n",
              "\n",
              "      <script>\n",
              "        const buttonEl =\n",
              "          document.querySelector('#df-0a5f8e1b-9594-4413-80e9-1af84eacd616 button.colab-df-convert');\n",
              "        buttonEl.style.display =\n",
              "          google.colab.kernel.accessAllowed ? 'block' : 'none';\n",
              "\n",
              "        async function convertToInteractive(key) {\n",
              "          const element = document.querySelector('#df-0a5f8e1b-9594-4413-80e9-1af84eacd616');\n",
              "          const dataTable =\n",
              "            await google.colab.kernel.invokeFunction('convertToInteractive',\n",
              "                                                     [key], {});\n",
              "          if (!dataTable) return;\n",
              "\n",
              "          const docLinkHtml = 'Like what you see? Visit the ' +\n",
              "            '<a target=\"_blank\" href=https://colab.research.google.com/notebooks/data_table.ipynb>data table notebook</a>'\n",
              "            + ' to learn more about interactive tables.';\n",
              "          element.innerHTML = '';\n",
              "          dataTable['output_type'] = 'display_data';\n",
              "          await google.colab.output.renderOutput(dataTable, element);\n",
              "          const docLink = document.createElement('div');\n",
              "          docLink.innerHTML = docLinkHtml;\n",
              "          element.appendChild(docLink);\n",
              "        }\n",
              "      </script>\n",
              "    </div>\n",
              "  </div>\n",
              "  "
            ]
          },
          "metadata": {},
          "execution_count": 2
        }
      ]
    },
    {
      "cell_type": "code",
      "source": [
        "netflix_data.info()"
      ],
      "metadata": {
        "papermill": {
          "duration": 0.04559,
          "end_time": "2022-06-06T16:17:58.160484",
          "exception": false,
          "start_time": "2022-06-06T16:17:58.114894",
          "status": "completed"
        },
        "tags": [],
        "execution": {
          "iopub.status.busy": "2022-06-14T16:52:00.53302Z",
          "iopub.execute_input": "2022-06-14T16:52:00.533716Z",
          "iopub.status.idle": "2022-06-14T16:52:00.555011Z",
          "shell.execute_reply.started": "2022-06-14T16:52:00.533671Z",
          "shell.execute_reply": "2022-06-14T16:52:00.554053Z"
        },
        "trusted": true,
        "colab": {
          "base_uri": "https://localhost:8080/"
        },
        "id": "OlulR2litnyM",
        "outputId": "39d365be-08b9-4c91-af37-0678e4b87bc5"
      },
      "execution_count": null,
      "outputs": [
        {
          "output_type": "stream",
          "name": "stdout",
          "text": [
            "<class 'pandas.core.frame.DataFrame'>\n",
            "RangeIndex: 8807 entries, 0 to 8806\n",
            "Data columns (total 12 columns):\n",
            " #   Column        Non-Null Count  Dtype \n",
            "---  ------        --------------  ----- \n",
            " 0   show_id       8807 non-null   object\n",
            " 1   type          8807 non-null   object\n",
            " 2   title         8807 non-null   object\n",
            " 3   director      6173 non-null   object\n",
            " 4   cast          7982 non-null   object\n",
            " 5   country       7976 non-null   object\n",
            " 6   date_added    8797 non-null   object\n",
            " 7   release_year  8807 non-null   int64 \n",
            " 8   rating        8803 non-null   object\n",
            " 9   duration      8804 non-null   object\n",
            " 10  listed_in     8807 non-null   object\n",
            " 11  description   8807 non-null   object\n",
            "dtypes: int64(1), object(11)\n",
            "memory usage: 825.8+ KB\n"
          ]
        }
      ]
    },
    {
      "cell_type": "markdown",
      "source": [
        "#### **We see some missing values located on cast, country and date added features. And also rating feature includes 4, duration feature includes 3 missing values** ####"
      ],
      "metadata": {
        "id": "9jWtGN2ztnyM"
      }
    },
    {
      "cell_type": "code",
      "source": [
        "netflix_shows=netflix_data[netflix_data['type']=='TV Show']\n",
        "netflix_movies=netflix_data[netflix_data['type']=='Movie']"
      ],
      "metadata": {
        "papermill": {
          "duration": 0.026972,
          "end_time": "2022-06-06T16:17:58.199386",
          "exception": false,
          "start_time": "2022-06-06T16:17:58.172414",
          "status": "completed"
        },
        "tags": [],
        "execution": {
          "iopub.status.busy": "2022-06-14T16:52:00.556221Z",
          "iopub.execute_input": "2022-06-14T16:52:00.556695Z",
          "iopub.status.idle": "2022-06-14T16:52:00.564626Z",
          "shell.execute_reply.started": "2022-06-14T16:52:00.556665Z",
          "shell.execute_reply": "2022-06-14T16:52:00.563923Z"
        },
        "trusted": true,
        "id": "2OaHZ7ZZtnyM"
      },
      "execution_count": null,
      "outputs": []
    },
    {
      "cell_type": "code",
      "source": [
        "sns.set_style(\"darkgrid\", {\"grid.color\": \".6\", \"grid.linestyle\": \":\"})\n",
        "ax = sns.countplot(x=\"type\", data=netflix_data, palette=\"Set2\")"
      ],
      "metadata": {
        "papermill": {
          "duration": 0.177914,
          "end_time": "2022-06-06T16:17:58.413428",
          "exception": false,
          "start_time": "2022-06-06T16:17:58.235514",
          "status": "completed"
        },
        "tags": [],
        "execution": {
          "iopub.status.busy": "2022-06-14T16:52:00.566315Z",
          "iopub.execute_input": "2022-06-14T16:52:00.566978Z",
          "iopub.status.idle": "2022-06-14T16:52:00.741385Z",
          "shell.execute_reply.started": "2022-06-14T16:52:00.566943Z",
          "shell.execute_reply": "2022-06-14T16:52:00.740436Z"
        },
        "trusted": true,
        "colab": {
          "base_uri": "https://localhost:8080/",
          "height": 449
        },
        "id": "fbTzARnStnyM",
        "outputId": "218303f0-8fb2-47c7-93ff-2069b429098e"
      },
      "execution_count": null,
      "outputs": [
        {
          "output_type": "display_data",
          "data": {
            "text/plain": [
              "<Figure size 640x480 with 1 Axes>"
            ],
            "image/png": "[encoded data removed]"
          },
          "metadata": {}
        }
      ]
    },
    {
      "cell_type": "markdown",
      "source": [
        "### RATINGS"
      ],
      "metadata": {
        "papermill": {
          "duration": 0.013532,
          "end_time": "2022-06-06T16:17:59.040247",
          "exception": false,
          "start_time": "2022-06-06T16:17:59.026715",
          "status": "completed"
        },
        "tags": [],
        "id": "cHv9fWuZtnyN"
      }
    },
    {
      "cell_type": "code",
      "source": [
        "plt.figure(figsize=(20,12))\n",
        "sns.set(style=\"white\")\n",
        "ax = sns.countplot(x=\"rating\", data=netflix_data, palette=\"Set2\", order=netflix_data['rating'].value_counts().index[0:15])"
      ],
      "metadata": {
        "papermill": {
          "duration": 0.301653,
          "end_time": "2022-06-06T16:17:59.355955",
          "exception": false,
          "start_time": "2022-06-06T16:17:59.054302",
          "status": "completed"
        },
        "tags": [],
        "execution": {
          "iopub.status.busy": "2022-06-14T16:52:00.742788Z",
          "iopub.execute_input": "2022-06-14T16:52:00.743329Z",
          "iopub.status.idle": "2022-06-14T16:52:01.049916Z",
          "shell.execute_reply.started": "2022-06-14T16:52:00.743281Z",
          "shell.execute_reply": "2022-06-14T16:52:01.048907Z"
        },
        "trusted": true,
        "colab": {
          "base_uri": "https://localhost:8080/",
          "height": 690
        },
        "id": "2bL7M5s6tnyN",
        "outputId": "935b0bac-dba0-4f18-d3f3-3c829571ad6f"
      },
      "execution_count": null,
      "outputs": [
        {
          "output_type": "display_data",
          "data": {
            "text/plain": [
              "<Figure size 2000x1200 with 1 Axes>"
            ],
            "image/png": "[encoded data removed]"
          },
          "metadata": {}
        }
      ]
    },
    {
      "cell_type": "markdown",
      "source": [
        "### By this countplot of ratings we can realize that TV-MA ( Mature Audiences ) contents have the highest rating numbers. Then it gets lower as in order TV-14 ( Material that parents or adult guardians may find unsuitable for children under the age of 14 ) and TV-PG ( Parental Guideness )."
      ],
      "metadata": {
        "papermill": {
          "duration": 0.01341,
          "end_time": "2022-06-06T16:17:59.384069",
          "exception": false,
          "start_time": "2022-06-06T16:17:59.370659",
          "status": "completed"
        },
        "tags": [],
        "id": "DoOh-l2WtnyN"
      }
    },
    {
      "cell_type": "markdown",
      "source": [
        "### YEAR"
      ],
      "metadata": {
        "papermill": {
          "duration": 0.01312,
          "end_time": "2022-06-06T16:17:59.41087",
          "exception": false,
          "start_time": "2022-06-06T16:17:59.39775",
          "status": "completed"
        },
        "tags": [],
        "id": "_Wr-OCFVtnyN"
      }
    },
    {
      "cell_type": "code",
      "source": [
        "plt.figure(figsize=(20,12))\n",
        "sns.set(style=\"white\")\n",
        "ax = sns.countplot(y=\"release_year\", data=netflix_data, palette=\"bright\", order=netflix_data['release_year'].value_counts().index[0:15])"
      ],
      "metadata": {
        "papermill": {
          "duration": 0.295023,
          "end_time": "2022-06-06T16:17:59.719275",
          "exception": false,
          "start_time": "2022-06-06T16:17:59.424252",
          "status": "completed"
        },
        "tags": [],
        "execution": {
          "iopub.status.busy": "2022-06-14T16:52:01.051156Z",
          "iopub.execute_input": "2022-06-14T16:52:01.051518Z",
          "iopub.status.idle": "2022-06-14T16:52:01.346263Z",
          "shell.execute_reply.started": "2022-06-14T16:52:01.051487Z",
          "shell.execute_reply": "2022-06-14T16:52:01.34555Z"
        },
        "trusted": true,
        "id": "YKF_lGKXtnyN",
        "colab": {
          "base_uri": "https://localhost:8080/",
          "height": 685
        },
        "outputId": "5f513aa9-4448-4f1f-f4b6-fe2193a9d4c2"
      },
      "execution_count": null,
      "outputs": [
        {
          "output_type": "display_data",
          "data": {
            "text/plain": [
              "<Figure size 2000x1200 with 1 Axes>"
            ],
            "image/png": "[encoded data removed]"
          },
          "metadata": {}
        }
      ]
    },
    {
      "cell_type": "markdown",
      "source": [
        "### This plot shows that most of the contents were produced in 2018 and 2017. Interesting fact is in 2019, 2020 and 2021 the number of produced contents are low. This is mostly because Covid-19 pandemic"
      ],
      "metadata": {
        "papermill": {
          "duration": 0.013744,
          "end_time": "2022-06-06T16:17:59.747734",
          "exception": false,
          "start_time": "2022-06-06T16:17:59.73399",
          "status": "completed"
        },
        "tags": [],
        "id": "qljG_F8GtnyO"
      }
    },
    {
      "cell_type": "markdown",
      "source": [
        "**RECOMMENDATION SYSTEM**"
      ],
      "metadata": {
        "papermill": {
          "duration": 0.013657,
          "end_time": "2022-06-06T16:17:59.775371",
          "exception": false,
          "start_time": "2022-06-06T16:17:59.761714",
          "status": "completed"
        },
        "tags": [],
        "id": "f5mAtVLNtnyO"
      }
    },
    {
      "cell_type": "markdown",
      "source": [
        "### The TF-IDF(Term Frequency-Inverse Document Frequency (TF-IDF) ) score is the frequency of a word occurring in a document, down-weighted by the number of documents in which it occurs. This is done to reduce the importance of words that occur frequently in plot overviews and therefore, their significance in computing the final similarity score."
      ],
      "metadata": {
        "papermill": {
          "duration": 0.013579,
          "end_time": "2022-06-06T16:17:59.858955",
          "exception": false,
          "start_time": "2022-06-06T16:17:59.845376",
          "status": "completed"
        },
        "tags": [],
        "id": "uJcN4e8XtnyO"
      }
    },
    {
      "cell_type": "code",
      "source": [
        "from sklearn.feature_extraction.text import TfidfVectorizer"
      ],
      "metadata": {
        "papermill": {
          "duration": 0.201998,
          "end_time": "2022-06-06T16:18:00.103028",
          "exception": false,
          "start_time": "2022-06-06T16:17:59.90103",
          "status": "completed"
        },
        "tags": [],
        "execution": {
          "iopub.status.busy": "2022-06-14T16:52:01.347328Z",
          "iopub.execute_input": "2022-06-14T16:52:01.348213Z",
          "iopub.status.idle": "2022-06-14T16:52:01.398735Z",
          "shell.execute_reply.started": "2022-06-14T16:52:01.348171Z",
          "shell.execute_reply": "2022-06-14T16:52:01.397786Z"
        },
        "trusted": true,
        "id": "6-koHY0YtnyP"
      },
      "execution_count": null,
      "outputs": []
    },
    {
      "cell_type": "code",
      "source": [
        "tfidf = TfidfVectorizer(stop_words='english')\n",
        "netflix_data['description'] = netflix_data['description'].fillna('')\n",
        "tfidf_matrix = tfidf.fit_transform(netflix_data['description'])\n",
        "tfidf_matrix.shape"
      ],
      "metadata": {
        "papermill": {
          "duration": 0.249968,
          "end_time": "2022-06-06T16:18:00.367168",
          "exception": false,
          "start_time": "2022-06-06T16:18:00.1172",
          "status": "completed"
        },
        "tags": [],
        "execution": {
          "iopub.status.busy": "2022-06-14T16:52:01.399975Z",
          "iopub.execute_input": "2022-06-14T16:52:01.400333Z",
          "iopub.status.idle": "2022-06-14T16:52:01.631774Z",
          "shell.execute_reply.started": "2022-06-14T16:52:01.400301Z",
          "shell.execute_reply": "2022-06-14T16:52:01.630816Z"
        },
        "trusted": true,
        "id": "S2hFavS4tnyP",
        "colab": {
          "base_uri": "https://localhost:8080/"
        },
        "outputId": "b7691aa7-09cf-411a-9353-12b679385e2e"
      },
      "execution_count": null,
      "outputs": [
        {
          "output_type": "execute_result",
          "data": {
            "text/plain": [
              "(8807, 18895)"
            ]
          },
          "metadata": {},
          "execution_count": 11
        }
      ]
    },
    {
      "cell_type": "markdown",
      "source": [
        "### The Cosine similarity score is used since it is independent of magnitude and is relatively easy and fast to calculate."
      ],
      "metadata": {
        "papermill": {
          "duration": 0.013883,
          "end_time": "2022-06-06T16:18:00.39515",
          "exception": false,
          "start_time": "2022-06-06T16:18:00.381267",
          "status": "completed"
        },
        "tags": [],
        "id": "ZC6f_eY_tnyQ"
      }
    },
    {
      "cell_type": "markdown",
      "source": [
        "# Cosine similarity is a measure of similarity, often used to measure document similarity in text analysis."
      ],
      "metadata": {
        "id": "at4yoOTH8mwG"
      }
    },
    {
      "cell_type": "code",
      "source": [
        "import pandas as pd\n",
        "from sklearn.feature_extraction.text import TfidfVectorizer"
      ],
      "metadata": {
        "id": "Dvfa8yeGGoIa"
      },
      "execution_count": null,
      "outputs": []
    },
    {
      "cell_type": "code",
      "source": [
        "from sklearn.metrics.pairwise import linear_kernel\n",
        "tfidf_vectorizer = TfidfVectorizer()\n",
        "tfidf = TfidfVectorizer(stop_words='english')\n",
        "netflix_data['description'] = netflix_data['description'].fillna('')\n",
        "tfidf_matrix = tfidf.fit_transform(netflix_data['description'])\n",
        "tfidf_matrix.shape\n",
        "\n",
        "cosine_sim = linear_kernel(tfidf_matrix, tfidf_matrix)"
      ],
      "metadata": {
        "papermill": {
          "duration": 0.987154,
          "end_time": "2022-06-06T16:18:01.452882",
          "exception": false,
          "start_time": "2022-06-06T16:18:00.465728",
          "status": "completed"
        },
        "tags": [],
        "execution": {
          "iopub.status.busy": "2022-06-14T16:52:01.633249Z",
          "iopub.execute_input": "2022-06-14T16:52:01.633693Z",
          "iopub.status.idle": "2022-06-14T16:52:03.192082Z",
          "shell.execute_reply.started": "2022-06-14T16:52:01.63365Z",
          "shell.execute_reply": "2022-06-14T16:52:03.191242Z"
        },
        "trusted": true,
        "id": "IJB3dY5_tnyQ"
      },
      "execution_count": null,
      "outputs": []
    },
    {
      "cell_type": "code",
      "source": [
        "indices = pd.Series(netflix_data.index, index=netflix_data['title']).drop_duplicates()"
      ],
      "metadata": {
        "papermill": {
          "duration": 0.024453,
          "end_time": "2022-06-06T16:18:01.491917",
          "exception": false,
          "start_time": "2022-06-06T16:18:01.467464",
          "status": "completed"
        },
        "tags": [],
        "execution": {
          "iopub.status.busy": "2022-06-14T16:52:03.19322Z",
          "iopub.execute_input": "2022-06-14T16:52:03.19354Z",
          "iopub.status.idle": "2022-06-14T16:52:03.199419Z",
          "shell.execute_reply.started": "2022-06-14T16:52:03.19351Z",
          "shell.execute_reply": "2022-06-14T16:52:03.19833Z"
        },
        "trusted": true,
        "id": "hmTVpjW0tnyR"
      },
      "execution_count": null,
      "outputs": []
    },
    {
      "cell_type": "markdown",
      "source": [
        "#### Defining Recommendation System Function"
      ],
      "metadata": {
        "papermill": {
          "duration": 0.014025,
          "end_time": "2022-06-06T16:18:01.520416",
          "exception": false,
          "start_time": "2022-06-06T16:18:01.506391",
          "status": "completed"
        },
        "tags": [],
        "id": "ogcFG4FttnyR"
      }
    },
    {
      "cell_type": "code",
      "source": [
        "def get_recommendations(title, cosine_sim=cosine_sim):\n",
        "    idx = indices[title]\n",
        "    sim_scores = list(enumerate(cosine_sim[idx]))\n",
        "    sim_scores = sorted(sim_scores, key=lambda x: x[1], reverse=True)\n",
        "    sim_scores = sim_scores[1:11]\n",
        "    movie_indices = [i[0] for i in sim_scores]\n",
        "    return netflix_data['title'].iloc[movie_indices]"
      ],
      "metadata": {
        "papermill": {
          "duration": 0.023576,
          "end_time": "2022-06-06T16:18:01.558518",
          "exception": false,
          "start_time": "2022-06-06T16:18:01.534942",
          "status": "completed"
        },
        "tags": [],
        "execution": {
          "iopub.status.busy": "2022-06-14T16:52:03.200643Z",
          "iopub.execute_input": "2022-06-14T16:52:03.201317Z",
          "iopub.status.idle": "2022-06-14T16:52:03.209993Z",
          "shell.execute_reply.started": "2022-06-14T16:52:03.201286Z",
          "shell.execute_reply": "2022-06-14T16:52:03.209131Z"
        },
        "trusted": true,
        "id": "B5XuXXmttnyR"
      },
      "execution_count": null,
      "outputs": []
    },
    {
      "cell_type": "markdown",
      "source": [
        "### At this point our recommendation system function is ready to use. After defining our recommendation system function we can use it to get recommendations. All we need to do is passing the content name as an argument"
      ],
      "metadata": {
        "papermill": {
          "duration": 0.014702,
          "end_time": "2022-06-06T16:18:01.588176",
          "exception": false,
          "start_time": "2022-06-06T16:18:01.573474",
          "status": "completed"
        },
        "tags": [],
        "id": "T1Ka2NYttnyR"
      }
    },
    {
      "cell_type": "markdown",
      "source": [
        "We are checking for Peaky Blinders. But you can check any content as an argument in our recommendation function"
      ],
      "metadata": {
        "papermill": {
          "duration": 0.01437,
          "end_time": "2022-06-06T16:18:01.617364",
          "exception": false,
          "start_time": "2022-06-06T16:18:01.602994",
          "status": "completed"
        },
        "tags": [],
        "id": "RdlOzTQAtnyR"
      }
    },
    {
      "cell_type": "code",
      "source": [
        "get_recommendations('Peaky Blinders')"
      ],
      "metadata": {
        "papermill": {
          "duration": 0.033152,
          "end_time": "2022-06-06T16:18:01.693597",
          "exception": false,
          "start_time": "2022-06-06T16:18:01.660445",
          "status": "completed"
        },
        "tags": [],
        "execution": {
          "iopub.status.busy": "2022-06-14T16:52:03.210997Z",
          "iopub.execute_input": "2022-06-14T16:52:03.211297Z",
          "iopub.status.idle": "2022-06-14T16:52:03.233047Z",
          "shell.execute_reply.started": "2022-06-14T16:52:03.211268Z",
          "shell.execute_reply": "2022-06-14T16:52:03.231944Z"
        },
        "trusted": true,
        "id": "HicF8pshtnyS",
        "colab": {
          "base_uri": "https://localhost:8080/"
        },
        "outputId": "fdc3b365-bc6c-421c-f608-be8fa26a188b"
      },
      "execution_count": null,
      "outputs": [
        {
          "output_type": "execute_result",
          "data": {
            "text/plain": [
              "7683                    Our Godfather\n",
              "2646                   My Stupid Boss\n",
              "3133                              Don\n",
              "8293                         The Fear\n",
              "7140    Jonathan Strange & Mr Norrell\n",
              "7785                Power Rangers Zeo\n",
              "8467                       The Prison\n",
              "8539                       The Tudors\n",
              "1510                    The Con Is On\n",
              "8391     The Legend of Michael Mishra\n",
              "Name: title, dtype: object"
            ]
          },
          "metadata": {},
          "execution_count": 16
        }
      ]
    },
    {
      "cell_type": "code",
      "source": [
        "get_recommendations('Dark')"
      ],
      "metadata": {
        "papermill": {
          "duration": 0.029228,
          "end_time": "2022-06-06T16:18:01.824708",
          "exception": false,
          "start_time": "2022-06-06T16:18:01.79548",
          "status": "completed"
        },
        "tags": [],
        "execution": {
          "iopub.status.busy": "2022-06-14T16:52:03.236043Z",
          "iopub.execute_input": "2022-06-14T16:52:03.23638Z",
          "iopub.status.idle": "2022-06-14T16:52:03.247977Z",
          "shell.execute_reply.started": "2022-06-14T16:52:03.236352Z",
          "shell.execute_reply": "2022-06-14T16:52:03.24701Z"
        },
        "trusted": true,
        "id": "_FeddU_FtnyS",
        "colab": {
          "base_uri": "https://localhost:8080/"
        },
        "outputId": "719b810c-2f2a-450e-a8e9-3286ec09a1c3"
      },
      "execution_count": null,
      "outputs": [
        {
          "output_type": "execute_result",
          "data": {
            "text/plain": [
              "2874                   Altered Carbon\n",
              "4629                           Maniac\n",
              "1034                       Synchronic\n",
              "626     Sophie: A Murder in West Cork\n",
              "1117         Ibrahim a Fate to Define\n",
              "4101                        Candyflip\n",
              "4253       Black Mirror: Bandersnatch\n",
              "869                  Who Killed Sara?\n",
              "2979                     THE STRANGER\n",
              "7348                        Love Rain\n",
              "Name: title, dtype: object"
            ]
          },
          "metadata": {},
          "execution_count": 17
        }
      ]
    },
    {
      "cell_type": "markdown",
      "source": [
        "## Content based filtering on multiple metrics ##\n",
        "\n",
        "* **Title**\n",
        "* **Cast**\n",
        "* **Director**\n",
        "* **Listed in**\n",
        "* **Plot**"
      ],
      "metadata": {
        "papermill": {
          "duration": 0.0143,
          "end_time": "2022-06-06T16:18:01.853687",
          "exception": false,
          "start_time": "2022-06-06T16:18:01.839387",
          "status": "completed"
        },
        "tags": [],
        "id": "YMYZPn9atnyS"
      }
    },
    {
      "cell_type": "markdown",
      "source": [
        "**Transforming NULLs to empty strings**"
      ],
      "metadata": {
        "papermill": {
          "duration": 0.013991,
          "end_time": "2022-06-06T16:18:01.881958",
          "exception": false,
          "start_time": "2022-06-06T16:18:01.867967",
          "status": "completed"
        },
        "tags": [],
        "id": "C6gh0VX4tnyS"
      }
    },
    {
      "cell_type": "code",
      "source": [
        "missingfilled=netflix_data.fillna('')\n",
        "missingfilled.head(2)"
      ],
      "metadata": {
        "papermill": {
          "duration": 0.038337,
          "end_time": "2022-06-06T16:18:01.934842",
          "exception": false,
          "start_time": "2022-06-06T16:18:01.896505",
          "status": "completed"
        },
        "tags": [],
        "execution": {
          "iopub.status.busy": "2022-06-14T16:52:03.249216Z",
          "iopub.execute_input": "2022-06-14T16:52:03.250129Z",
          "iopub.status.idle": "2022-06-14T16:52:03.277116Z",
          "shell.execute_reply.started": "2022-06-14T16:52:03.250083Z",
          "shell.execute_reply": "2022-06-14T16:52:03.276067Z"
        },
        "trusted": true,
        "id": "SfZh5zwztnyS",
        "colab": {
          "base_uri": "https://localhost:8080/",
          "height": 243
        },
        "outputId": "f7328fe5-d5a5-4f3f-bcd6-deffcdfbe36e"
      },
      "execution_count": null,
      "outputs": [
        {
          "output_type": "execute_result",
          "data": {
            "text/plain": [
              "  show_id     type                 title         director  \\\n",
              "0      s1    Movie  Dick Johnson Is Dead  Kirsten Johnson   \n",
              "1      s2  TV Show         Blood & Water                    \n",
              "\n",
              "                                                cast        country  \\\n",
              "0                                                     United States   \n",
              "1  Ama Qamata, Khosi Ngema, Gail Mabalane, Thaban...   South Africa   \n",
              "\n",
              "           date_added  release_year rating   duration  \\\n",
              "0  September 25, 2021          2020  PG-13     90 min   \n",
              "1  September 24, 2021          2021  TV-MA  2 Seasons   \n",
              "\n",
              "                                         listed_in  \\\n",
              "0                                    Documentaries   \n",
              "1  International TV Shows, TV Dramas, TV Mysteries   \n",
              "\n",
              "                                         description  \n",
              "0  As her father nears the end of his life, filmm...  \n",
              "1  After crossing paths at a party, a Cape Town t...  "
            ],
            "text/html": [
              "\n",
              "  <div id=\"df-218f6b33-2e8e-4d90-802d-15458170e7e5\">\n",
              "    <div class=\"colab-df-container\">\n",
              "      <div>\n",
              "<style scoped>\n",
              "    .dataframe tbody tr th:only-of-type {\n",
              "        vertical-align: middle;\n",
              "    }\n",
              "\n",
              "    .dataframe tbody tr th {\n",
              "        vertical-align: top;\n",
              "    }\n",
              "\n",
              "    .dataframe thead th {\n",
              "        text-align: right;\n",
              "    }\n",
              "</style>\n",
              "<table border=\"1\" class=\"dataframe\">\n",
              "  <thead>\n",
              "    <tr style=\"text-align: right;\">\n",
              "      <th></th>\n",
              "      <th>show_id</th>\n",
              "      <th>type</th>\n",
              "      <th>title</th>\n",
              "      <th>director</th>\n",
              "      <th>cast</th>\n",
              "      <th>country</th>\n",
              "      <th>date_added</th>\n",
              "      <th>release_year</th>\n",
              "      <th>rating</th>\n",
              "      <th>duration</th>\n",
              "      <th>listed_in</th>\n",
              "      <th>description</th>\n",
              "    </tr>\n",
              "  </thead>\n",
              "  <tbody>\n",
              "    <tr>\n",
              "      <th>0</th>\n",
              "      <td>s1</td>\n",
              "      <td>Movie</td>\n",
              "      <td>Dick Johnson Is Dead</td>\n",
              "      <td>Kirsten Johnson</td>\n",
              "      <td></td>\n",
              "      <td>United States</td>\n",
              "      <td>September 25, 2021</td>\n",
              "      <td>2020</td>\n",
              "      <td>PG-13</td>\n",
              "      <td>90 min</td>\n",
              "      <td>Documentaries</td>\n",
              "      <td>As her father nears the end of his life, filmm...</td>\n",
              "    </tr>\n",
              "    <tr>\n",
              "      <th>1</th>\n",
              "      <td>s2</td>\n",
              "      <td>TV Show</td>\n",
              "      <td>Blood &amp; Water</td>\n",
              "      <td></td>\n",
              "      <td>Ama Qamata, Khosi Ngema, Gail Mabalane, Thaban...</td>\n",
              "      <td>South Africa</td>\n",
              "      <td>September 24, 2021</td>\n",
              "      <td>2021</td>\n",
              "      <td>TV-MA</td>\n",
              "      <td>2 Seasons</td>\n",
              "      <td>International TV Shows, TV Dramas, TV Mysteries</td>\n",
              "      <td>After crossing paths at a party, a Cape Town t...</td>\n",
              "    </tr>\n",
              "  </tbody>\n",
              "</table>\n",
              "</div>\n",
              "      <button class=\"colab-df-convert\" onclick=\"convertToInteractive('df-218f6b33-2e8e-4d90-802d-15458170e7e5')\"\n",
              "              title=\"Convert this dataframe to an interactive table.\"\n",
              "              style=\"display:none;\">\n",
              "        \n",
              "  <svg xmlns=\"http://www.w3.org/2000/svg\" height=\"24px\"viewBox=\"0 0 24 24\"\n",
              "       width=\"24px\">\n",
              "    <path d=\"M0 0h24v24H0V0z\" fill=\"none\"/>\n",
              "    <path d=\"M18.56 5.44l.94 2.06.94-2.06 2.06-.94-2.06-.94-.94-2.06-.94 2.06-2.06.94zm-11 1L8.5 8.5l.94-2.06 2.06-.94-2.06-.94L8.5 2.5l-.94 2.06-2.06.94zm10 10l.94 2.06.94-2.06 2.06-.94-2.06-.94-.94-2.06-.94 2.06-2.06.94z\"/><path d=\"M17.41 7.96l-1.37-1.37c-.4-.4-.92-.59-1.43-.59-.52 0-1.04.2-1.43.59L10.3 9.45l-7.72 7.72c-.78.78-.78 2.05 0 2.83L4 21.41c.39.39.9.59 1.41.59.51 0 1.02-.2 1.41-.59l7.78-7.78 2.81-2.81c.8-.78.8-2.07 0-2.86zM5.41 20L4 18.59l7.72-7.72 1.47 1.35L5.41 20z\"/>\n",
              "  </svg>\n",
              "      </button>\n",
              "      \n",
              "  <style>\n",
              "    .colab-df-container {\n",
              "      display:flex;\n",
              "      flex-wrap:wrap;\n",
              "      gap: 12px;\n",
              "    }\n",
              "\n",
              "    .colab-df-convert {\n",
              "      background-color: #E8F0FE;\n",
              "      border: none;\n",
              "      border-radius: 50%;\n",
              "      cursor: pointer;\n",
              "      display: none;\n",
              "      fill: #1967D2;\n",
              "      height: 32px;\n",
              "      padding: 0 0 0 0;\n",
              "      width: 32px;\n",
              "    }\n",
              "\n",
              "    .colab-df-convert:hover {\n",
              "      background-color: #E2EBFA;\n",
              "      box-shadow: 0px 1px 2px rgba(60, 64, 67, 0.3), 0px 1px 3px 1px rgba(60, 64, 67, 0.15);\n",
              "      fill: #174EA6;\n",
              "    }\n",
              "\n",
              "    [theme=dark] .colab-df-convert {\n",
              "      background-color: #3B4455;\n",
              "      fill: #D2E3FC;\n",
              "    }\n",
              "\n",
              "    [theme=dark] .colab-df-convert:hover {\n",
              "      background-color: #434B5C;\n",
              "      box-shadow: 0px 1px 3px 1px rgba(0, 0, 0, 0.15);\n",
              "      filter: drop-shadow(0px 1px 2px rgba(0, 0, 0, 0.3));\n",
              "      fill: #FFFFFF;\n",
              "    }\n",
              "  </style>\n",
              "\n",
              "      <script>\n",
              "        const buttonEl =\n",
              "          document.querySelector('#df-218f6b33-2e8e-4d90-802d-15458170e7e5 button.colab-df-convert');\n",
              "        buttonEl.style.display =\n",
              "          google.colab.kernel.accessAllowed ? 'block' : 'none';\n",
              "\n",
              "        async function convertToInteractive(key) {\n",
              "          const element = document.querySelector('#df-218f6b33-2e8e-4d90-802d-15458170e7e5');\n",
              "          const dataTable =\n",
              "            await google.colab.kernel.invokeFunction('convertToInteractive',\n",
              "                                                     [key], {});\n",
              "          if (!dataTable) return;\n",
              "\n",
              "          const docLinkHtml = 'Like what you see? Visit the ' +\n",
              "            '<a target=\"_blank\" href=https://colab.research.google.com/notebooks/data_table.ipynb>data table notebook</a>'\n",
              "            + ' to learn more about interactive tables.';\n",
              "          element.innerHTML = '';\n",
              "          dataTable['output_type'] = 'display_data';\n",
              "          await google.colab.output.renderOutput(dataTable, element);\n",
              "          const docLink = document.createElement('div');\n",
              "          docLink.innerHTML = docLinkHtml;\n",
              "          element.appendChild(docLink);\n",
              "        }\n",
              "      </script>\n",
              "    </div>\n",
              "  </div>\n",
              "  "
            ]
          },
          "metadata": {},
          "execution_count": 18
        }
      ]
    },
    {
      "cell_type": "markdown",
      "source": [
        "**Data cleaning. Converting all words to their lower case form**"
      ],
      "metadata": {
        "papermill": {
          "duration": 0.014108,
          "end_time": "2022-06-06T16:18:01.96307",
          "exception": false,
          "start_time": "2022-06-06T16:18:01.948962",
          "status": "completed"
        },
        "tags": [],
        "id": "ZP1Q_JMbtnyS"
      }
    },
    {
      "cell_type": "code",
      "source": [
        "def data_cleaning(x):\n",
        "        return str.lower(x.replace(\" \", \"\"))"
      ],
      "metadata": {
        "papermill": {
          "duration": 0.022027,
          "end_time": "2022-06-06T16:18:01.999512",
          "exception": false,
          "start_time": "2022-06-06T16:18:01.977485",
          "status": "completed"
        },
        "tags": [],
        "execution": {
          "iopub.status.busy": "2022-06-14T16:52:03.279049Z",
          "iopub.execute_input": "2022-06-14T16:52:03.279502Z",
          "iopub.status.idle": "2022-06-14T16:52:03.285477Z",
          "shell.execute_reply.started": "2022-06-14T16:52:03.27946Z",
          "shell.execute_reply": "2022-06-14T16:52:03.284634Z"
        },
        "trusted": true,
        "id": "uHWuDG4jtnyT"
      },
      "execution_count": null,
      "outputs": []
    },
    {
      "cell_type": "markdown",
      "source": [
        "**Selecting features which are going to filter model**"
      ],
      "metadata": {
        "papermill": {
          "duration": 0.014096,
          "end_time": "2022-06-06T16:18:02.027873",
          "exception": false,
          "start_time": "2022-06-06T16:18:02.013777",
          "status": "completed"
        },
        "tags": [],
        "id": "DKKss4ZstnyT"
      }
    },
    {
      "cell_type": "code",
      "source": [
        "features=['title','director','cast','listed_in','description']\n",
        "missingfilled=missingfilled[features]"
      ],
      "metadata": {
        "papermill": {
          "duration": 0.027173,
          "end_time": "2022-06-06T16:18:02.069684",
          "exception": false,
          "start_time": "2022-06-06T16:18:02.042511",
          "status": "completed"
        },
        "tags": [],
        "execution": {
          "iopub.status.busy": "2022-06-14T16:52:03.286511Z",
          "iopub.execute_input": "2022-06-14T16:52:03.28683Z",
          "iopub.status.idle": "2022-06-14T16:52:03.298928Z",
          "shell.execute_reply.started": "2022-06-14T16:52:03.286803Z",
          "shell.execute_reply": "2022-06-14T16:52:03.297942Z"
        },
        "trusted": true,
        "id": "KJOhAkTdtnyT"
      },
      "execution_count": null,
      "outputs": []
    },
    {
      "cell_type": "code",
      "source": [
        "for feature in features:\n",
        "    missingfilled[feature] = missingfilled[feature].apply(data_cleaning)\n",
        "    \n",
        "missingfilled.head(2)"
      ],
      "metadata": {
        "papermill": {
          "duration": 0.07449,
          "end_time": "2022-06-06T16:18:02.158381",
          "exception": false,
          "start_time": "2022-06-06T16:18:02.083891",
          "status": "completed"
        },
        "tags": [],
        "execution": {
          "iopub.status.busy": "2022-06-14T16:52:03.300065Z",
          "iopub.execute_input": "2022-06-14T16:52:03.300928Z",
          "iopub.status.idle": "2022-06-14T16:52:03.360577Z",
          "shell.execute_reply.started": "2022-06-14T16:52:03.300894Z",
          "shell.execute_reply": "2022-06-14T16:52:03.359674Z"
        },
        "trusted": true,
        "id": "qqzfo_cEtnyT",
        "colab": {
          "base_uri": "https://localhost:8080/",
          "height": 176
        },
        "outputId": "3a27b8cd-ac61-4e26-982d-01dd1fc607c8"
      },
      "execution_count": null,
      "outputs": [
        {
          "output_type": "execute_result",
          "data": {
            "text/plain": [
              "               title        director  \\\n",
              "0  dickjohnsonisdead  kirstenjohnson   \n",
              "1        blood&water                   \n",
              "\n",
              "                                                cast  \\\n",
              "0                                                      \n",
              "1  amaqamata,khosingema,gailmabalane,thabangmolab...   \n",
              "\n",
              "                                   listed_in  \\\n",
              "0                              documentaries   \n",
              "1  internationaltvshows,tvdramas,tvmysteries   \n",
              "\n",
              "                                         description  \n",
              "0  asherfathernearstheendofhislife,filmmakerkirst...  \n",
              "1  aftercrossingpathsataparty,acapetownteensetsou...  "
            ],
            "text/html": [
              "\n",
              "  <div id=\"df-e962e245-9fe1-4139-8a44-6bf612f11493\">\n",
              "    <div class=\"colab-df-container\">\n",
              "      <div>\n",
              "<style scoped>\n",
              "    .dataframe tbody tr th:only-of-type {\n",
              "        vertical-align: middle;\n",
              "    }\n",
              "\n",
              "    .dataframe tbody tr th {\n",
              "        vertical-align: top;\n",
              "    }\n",
              "\n",
              "    .dataframe thead th {\n",
              "        text-align: right;\n",
              "    }\n",
              "</style>\n",
              "<table border=\"1\" class=\"dataframe\">\n",
              "  <thead>\n",
              "    <tr style=\"text-align: right;\">\n",
              "      <th></th>\n",
              "      <th>title</th>\n",
              "      <th>director</th>\n",
              "      <th>cast</th>\n",
              "      <th>listed_in</th>\n",
              "      <th>description</th>\n",
              "    </tr>\n",
              "  </thead>\n",
              "  <tbody>\n",
              "    <tr>\n",
              "      <th>0</th>\n",
              "      <td>dickjohnsonisdead</td>\n",
              "      <td>kirstenjohnson</td>\n",
              "      <td></td>\n",
              "      <td>documentaries</td>\n",
              "      <td>asherfathernearstheendofhislife,filmmakerkirst...</td>\n",
              "    </tr>\n",
              "    <tr>\n",
              "      <th>1</th>\n",
              "      <td>blood&amp;water</td>\n",
              "      <td></td>\n",
              "      <td>amaqamata,khosingema,gailmabalane,thabangmolab...</td>\n",
              "      <td>internationaltvshows,tvdramas,tvmysteries</td>\n",
              "      <td>aftercrossingpathsataparty,acapetownteensetsou...</td>\n",
              "    </tr>\n",
              "  </tbody>\n",
              "</table>\n",
              "</div>\n",
              "      <button class=\"colab-df-convert\" onclick=\"convertToInteractive('df-e962e245-9fe1-4139-8a44-6bf612f11493')\"\n",
              "              title=\"Convert this dataframe to an interactive table.\"\n",
              "              style=\"display:none;\">\n",
              "        \n",
              "  <svg xmlns=\"http://www.w3.org/2000/svg\" height=\"24px\"viewBox=\"0 0 24 24\"\n",
              "       width=\"24px\">\n",
              "    <path d=\"M0 0h24v24H0V0z\" fill=\"none\"/>\n",
              "    <path d=\"M18.56 5.44l.94 2.06.94-2.06 2.06-.94-2.06-.94-.94-2.06-.94 2.06-2.06.94zm-11 1L8.5 8.5l.94-2.06 2.06-.94-2.06-.94L8.5 2.5l-.94 2.06-2.06.94zm10 10l.94 2.06.94-2.06 2.06-.94-2.06-.94-.94-2.06-.94 2.06-2.06.94z\"/><path d=\"M17.41 7.96l-1.37-1.37c-.4-.4-.92-.59-1.43-.59-.52 0-1.04.2-1.43.59L10.3 9.45l-7.72 7.72c-.78.78-.78 2.05 0 2.83L4 21.41c.39.39.9.59 1.41.59.51 0 1.02-.2 1.41-.59l7.78-7.78 2.81-2.81c.8-.78.8-2.07 0-2.86zM5.41 20L4 18.59l7.72-7.72 1.47 1.35L5.41 20z\"/>\n",
              "  </svg>\n",
              "      </button>\n",
              "      \n",
              "  <style>\n",
              "    .colab-df-container {\n",
              "      display:flex;\n",
              "      flex-wrap:wrap;\n",
              "      gap: 12px;\n",
              "    }\n",
              "\n",
              "    .colab-df-convert {\n",
              "      background-color: #E8F0FE;\n",
              "      border: none;\n",
              "      border-radius: 50%;\n",
              "      cursor: pointer;\n",
              "      display: none;\n",
              "      fill: #1967D2;\n",
              "      height: 32px;\n",
              "      padding: 0 0 0 0;\n",
              "      width: 32px;\n",
              "    }\n",
              "\n",
              "    .colab-df-convert:hover {\n",
              "      background-color: #E2EBFA;\n",
              "      box-shadow: 0px 1px 2px rgba(60, 64, 67, 0.3), 0px 1px 3px 1px rgba(60, 64, 67, 0.15);\n",
              "      fill: #174EA6;\n",
              "    }\n",
              "\n",
              "    [theme=dark] .colab-df-convert {\n",
              "      background-color: #3B4455;\n",
              "      fill: #D2E3FC;\n",
              "    }\n",
              "\n",
              "    [theme=dark] .colab-df-convert:hover {\n",
              "      background-color: #434B5C;\n",
              "      box-shadow: 0px 1px 3px 1px rgba(0, 0, 0, 0.15);\n",
              "      filter: drop-shadow(0px 1px 2px rgba(0, 0, 0, 0.3));\n",
              "      fill: #FFFFFF;\n",
              "    }\n",
              "  </style>\n",
              "\n",
              "      <script>\n",
              "        const buttonEl =\n",
              "          document.querySelector('#df-e962e245-9fe1-4139-8a44-6bf612f11493 button.colab-df-convert');\n",
              "        buttonEl.style.display =\n",
              "          google.colab.kernel.accessAllowed ? 'block' : 'none';\n",
              "\n",
              "        async function convertToInteractive(key) {\n",
              "          const element = document.querySelector('#df-e962e245-9fe1-4139-8a44-6bf612f11493');\n",
              "          const dataTable =\n",
              "            await google.colab.kernel.invokeFunction('convertToInteractive',\n",
              "                                                     [key], {});\n",
              "          if (!dataTable) return;\n",
              "\n",
              "          const docLinkHtml = 'Like what you see? Visit the ' +\n",
              "            '<a target=\"_blank\" href=https://colab.research.google.com/notebooks/data_table.ipynb>data table notebook</a>'\n",
              "            + ' to learn more about interactive tables.';\n",
              "          element.innerHTML = '';\n",
              "          dataTable['output_type'] = 'display_data';\n",
              "          await google.colab.output.renderOutput(dataTable, element);\n",
              "          const docLink = document.createElement('div');\n",
              "          docLink.innerHTML = docLinkHtml;\n",
              "          element.appendChild(docLink);\n",
              "        }\n",
              "      </script>\n",
              "    </div>\n",
              "  </div>\n",
              "  "
            ]
          },
          "metadata": {},
          "execution_count": 21
        }
      ]
    },
    {
      "cell_type": "code",
      "source": [
        "def content_include(x):\n",
        "    return x['title']+ ' ' + x['director'] + ' ' + x['cast'] + ' ' +x['listed_in']+' '+ x['description']"
      ],
      "metadata": {
        "papermill": {
          "duration": 0.023073,
          "end_time": "2022-06-06T16:18:02.195669",
          "exception": false,
          "start_time": "2022-06-06T16:18:02.172596",
          "status": "completed"
        },
        "tags": [],
        "execution": {
          "iopub.status.busy": "2022-06-14T16:52:03.361925Z",
          "iopub.execute_input": "2022-06-14T16:52:03.362234Z",
          "iopub.status.idle": "2022-06-14T16:52:03.366828Z",
          "shell.execute_reply.started": "2022-06-14T16:52:03.362207Z",
          "shell.execute_reply": "2022-06-14T16:52:03.365917Z"
        },
        "trusted": true,
        "id": "VYCRHPL1tnyU"
      },
      "execution_count": null,
      "outputs": []
    },
    {
      "cell_type": "code",
      "source": [
        "missingfilled['soup'] = missingfilled.apply(content_include, axis=1)"
      ],
      "metadata": {
        "papermill": {
          "duration": 0.223429,
          "end_time": "2022-06-06T16:18:02.433365",
          "exception": false,
          "start_time": "2022-06-06T16:18:02.209936",
          "status": "completed"
        },
        "tags": [],
        "execution": {
          "iopub.status.busy": "2022-06-14T16:52:03.36834Z",
          "iopub.execute_input": "2022-06-14T16:52:03.368761Z",
          "iopub.status.idle": "2022-06-14T16:52:03.580912Z",
          "shell.execute_reply.started": "2022-06-14T16:52:03.368719Z",
          "shell.execute_reply": "2022-06-14T16:52:03.580055Z"
        },
        "trusted": true,
        "id": "VPDERT0AtnyU"
      },
      "execution_count": null,
      "outputs": []
    },
    {
      "cell_type": "markdown",
      "source": [
        "**Now the code is basically similar to the upper model except the fact that count vectorizer is used instead of tf-idf**"
      ],
      "metadata": {
        "papermill": {
          "duration": 0.01422,
          "end_time": "2022-06-06T16:18:02.462269",
          "exception": false,
          "start_time": "2022-06-06T16:18:02.448049",
          "status": "completed"
        },
        "tags": [],
        "id": "D71iLZbytnyU"
      }
    },
    {
      "cell_type": "code",
      "source": [
        "from sklearn.feature_extraction.text import CountVectorizer\n",
        "from sklearn.metrics.pairwise import cosine_similarity"
      ],
      "metadata": {
        "papermill": {
          "duration": 1.604647,
          "end_time": "2022-06-06T16:18:04.081389",
          "exception": false,
          "start_time": "2022-06-06T16:18:02.476742",
          "status": "completed"
        },
        "tags": [],
        "execution": {
          "iopub.status.busy": "2022-06-14T16:52:03.582182Z",
          "iopub.execute_input": "2022-06-14T16:52:03.582474Z",
          "iopub.status.idle": "2022-06-14T16:52:03.586762Z",
          "shell.execute_reply.started": "2022-06-14T16:52:03.582447Z",
          "shell.execute_reply": "2022-06-14T16:52:03.585907Z"
        },
        "trusted": true,
        "id": "DH0iZBjMtnyU"
      },
      "execution_count": null,
      "outputs": []
    },
    {
      "cell_type": "code",
      "source": [
        "countvec = CountVectorizer(stop_words='english')\n",
        "countvec_matrix = countvec.fit_transform(missingfilled['soup'])\n",
        "\n",
        "cosine_sim2 = cosine_similarity(countvec_matrix, countvec_matrix)"
      ],
      "metadata": {
        "execution": {
          "iopub.status.busy": "2022-06-14T16:52:03.587804Z",
          "iopub.execute_input": "2022-06-14T16:52:03.588189Z",
          "iopub.status.idle": "2022-06-14T16:52:05.49397Z",
          "shell.execute_reply.started": "2022-06-14T16:52:03.588148Z",
          "shell.execute_reply": "2022-06-14T16:52:05.492705Z"
        },
        "trusted": true,
        "id": "F4QDoEIPtnyU"
      },
      "execution_count": null,
      "outputs": []
    },
    {
      "cell_type": "code",
      "source": [
        "missingfilled=missingfilled.reset_index()\n",
        "indices = pd.Series(missingfilled.index, index=missingfilled['title'])"
      ],
      "metadata": {
        "papermill": {
          "duration": 0.027202,
          "end_time": "2022-06-06T16:18:04.123263",
          "exception": false,
          "start_time": "2022-06-06T16:18:04.096061",
          "status": "completed"
        },
        "tags": [],
        "execution": {
          "iopub.status.busy": "2022-06-14T16:52:05.495277Z",
          "iopub.execute_input": "2022-06-14T16:52:05.495642Z",
          "iopub.status.idle": "2022-06-14T16:52:05.505954Z",
          "shell.execute_reply.started": "2022-06-14T16:52:05.49561Z",
          "shell.execute_reply": "2022-06-14T16:52:05.504738Z"
        },
        "trusted": true,
        "id": "HSI6ZwTDtnyV"
      },
      "execution_count": null,
      "outputs": []
    },
    {
      "cell_type": "code",
      "source": [
        "def get_recommendations_new(title, cosine_sim=cosine_sim):\n",
        "    title=title.replace(' ','').lower()\n",
        "    idx = indices[title]\n",
        "    sim_scores = list(enumerate(cosine_sim[idx]))\n",
        "    sim_scores = sorted(sim_scores, key=lambda x: x[1], reverse=True)\n",
        "    sim_scores = sim_scores[1:11]\n",
        "    movie_indices = [i[0] for i in sim_scores]\n",
        "    return netflix_data['title'].iloc[movie_indices]"
      ],
      "metadata": {
        "papermill": {
          "duration": 0.024361,
          "end_time": "2022-06-06T16:18:04.162329",
          "exception": false,
          "start_time": "2022-06-06T16:18:04.137968",
          "status": "completed"
        },
        "tags": [],
        "execution": {
          "iopub.status.busy": "2022-06-14T16:52:05.507255Z",
          "iopub.execute_input": "2022-06-14T16:52:05.507601Z",
          "iopub.status.idle": "2022-06-14T16:52:05.515823Z",
          "shell.execute_reply.started": "2022-06-14T16:52:05.507567Z",
          "shell.execute_reply": "2022-06-14T16:52:05.514668Z"
        },
        "trusted": true,
        "id": "soaNVCestnyV"
      },
      "execution_count": null,
      "outputs": []
    },
    {
      "cell_type": "code",
      "source": [
        "get_recommendations_new('Dark', cosine_sim2)"
      ],
      "metadata": {
        "colab": {
          "base_uri": "https://localhost:8080/"
        },
        "id": "BxJWHYgeBSvy",
        "outputId": "0abdead1-89d6-4455-85ac-9cc49708d213"
      },
      "execution_count": null,
      "outputs": [
        {
          "output_type": "execute_result",
          "data": {
            "text/plain": [
              "260                 The Defeated\n",
              "3604                    Sintonia\n",
              "2053             Young Wallander\n",
              "3744                     Unit 42\n",
              "5404           The Truth Seekers\n",
              "6323                 Black Heart\n",
              "3789              Killer Ratings\n",
              "4476       Terrorism Close Calls\n",
              "4673    Inside the Criminal Mind\n",
              "3855                  The Writer\n",
              "Name: title, dtype: object"
            ]
          },
          "metadata": {},
          "execution_count": 28
        }
      ]
    },
    {
      "cell_type": "code",
      "source": [
        "get_recommendations_new('Peaky Blinders', cosine_sim2)"
      ],
      "metadata": {
        "colab": {
          "base_uri": "https://localhost:8080/"
        },
        "id": "2RtuJYhhBYV4",
        "outputId": "c6e9b27a-0cd6-41fc-d52b-25553b90367c"
      },
      "execution_count": null,
      "outputs": [
        {
          "output_type": "execute_result",
          "data": {
            "text/plain": [
              "3034                    Giri / Haji\n",
              "5032    The Frankenstein Chronicles\n",
              "8431          The Murder Detectives\n",
              "4951                         Loaded\n",
              "4809                  Kiss Me First\n",
              "6922                   Happy Valley\n",
              "2184                       Get Even\n",
              "519                   I AM A KILLER\n",
              "3789                 Killer Ratings\n",
              "4476          Terrorism Close Calls\n",
              "Name: title, dtype: object"
            ]
          },
          "metadata": {},
          "execution_count": 29
        }
      ]
    },
    {
      "cell_type": "code",
      "source": [
        "get_recommendations_new('Black Mirror', cosine_sim2)"
      ],
      "metadata": {
        "colab": {
          "base_uri": "https://localhost:8080/"
        },
        "id": "KTUVmftJBdmk",
        "outputId": "7429716b-676b-430f-e751-48d44a6ff202"
      },
      "execution_count": null,
      "outputs": [
        {
          "output_type": "execute_result",
          "data": {
            "text/plain": [
              "3045                                       Dracula\n",
              "3551           The Dark Crystal: Age of Resistance\n",
              "4262                                Watership Down\n",
              "1301                               Behind Her Eyes\n",
              "7017    How to Live Mortgage Free with Sarah Beeny\n",
              "2979                                  THE STRANGER\n",
              "5365                                         Vexed\n",
              "69                  Stories by Rabindranath Tagore\n",
              "1056                                Ajaibnya Cinta\n",
              "1603                                  Alien Worlds\n",
              "Name: title, dtype: object"
            ]
          },
          "metadata": {},
          "execution_count": 30
        }
      ]
    }
  ]
}